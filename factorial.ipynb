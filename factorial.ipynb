{
 "cells": [
  {
   "cell_type": "code",
   "execution_count": 1,
   "metadata": {},
   "outputs": [],
   "source": [
    "def fact(n: int) -> int:\n",
    "    if not isinstance(n, int):\n",
    "        raise TypeError(\n",
    "            \"Input parameter should be an integer (int), \"\n",
    "            f\"but {type(n)} provided.\"\n",
    "        )\n",
    "    if n < 0:\n",
    "        raise ValueError(\n",
    "            \"Input parameter should be a nonnegative integer, \"\n",
    "            f\"but {n} provided.\"\n",
    "        )\n",
    "    if n <= 1:\n",
    "        return 1\n",
    "    result = 1\n",
    "    while n:\n",
    "        result *= n\n",
    "        n -= 1\n",
    "    return result"
   ]
  },
  {
   "cell_type": "code",
   "execution_count": 2,
   "metadata": {},
   "outputs": [],
   "source": [
    "assert fact(0) == 1, f\"Expected {fact(0)} to be 1\"\n",
    "assert fact(1) == 1, f\"Expected {fact(1)} to be 1\"\n",
    "assert fact(2) == 2, f\"Expected {fact(2)} to be 2\"\n",
    "assert fact(5) == 120, f\"Expected {fact(5)} to be 120\"\n",
    "\n",
    "try:\n",
    "    fact(-1)\n",
    "    assert False, \"Should fail with ValueError on `-1` argument\"\n",
    "except ValueError as e:\n",
    "    pass\n",
    "\n",
    "try:\n",
    "    fact(\"abc\")\n",
    "    assert False, \"Should fail with TypeError on `abc` argument\"\n",
    "except TypeError as e:\n",
    "    pass\n",
    "\n",
    "try:\n",
    "    fact(0.0)\n",
    "    assert False, \"Should fail with TypeError on `0.0` argument\"\n",
    "except TypeError as e:\n",
    "    pass"
   ]
  },
  {
   "cell_type": "markdown",
   "metadata": {},
   "source": [
    "Edge cases are $0$, $2$ and $-1$,\n",
    "because $0$ is the smallest acceptable value,\n",
    "$-1$ is the largest not acceptable value\n",
    "and $2$ is the smallest value that is processed in a loop inside the function.\n",
    "\n",
    "Also, it's needed to check that the function works fine for larger value (e. g., $5$)\n",
    "and fails on incorrect input (like strings and floats)."
   ]
  }
 ],
 "metadata": {
  "kernelspec": {
   "display_name": "Python 3",
   "language": "python",
   "name": "python3"
  },
  "language_info": {
   "codemirror_mode": {
    "name": "ipython",
    "version": 3
   },
   "file_extension": ".py",
   "mimetype": "text/x-python",
   "name": "python",
   "nbconvert_exporter": "python",
   "pygments_lexer": "ipython3",
   "version": "3.6.5"
  }
 },
 "nbformat": 4,
 "nbformat_minor": 2
}
