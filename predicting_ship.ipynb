{
 "cells": [
  {
   "cell_type": "markdown",
   "metadata": {},
   "source": [
    "Ship direction (angle in radians) is obviously a Markov chain, because,\n",
    "if we fix a direction of the ship on a step $t$,\n",
    "its next rotation (on step $t + 1$) will not change if another previous ($< t$) directions change,\n",
    "and will depend only on step $t$.\n",
    "It can be explained recursively\n",
    "\n",
    "\\begin{equation}\n",
    "    \\begin{cases}\n",
    "        \\eta_k &= \\eta_{k - 1} + \\xi_k, \\\\\n",
    "        \\eta_0 &= 0,\n",
    "    \\end{cases}\n",
    "\\end{equation}\n",
    "\n",
    "where $\\xi_k \\sim N\\left( 0, \\frac{1}{4} \\right)$.\n",
    "\n",
    "Thus, position of the ship is a process that depends on the $\\eta$\n",
    "\n",
    "\\begin{equation}\n",
    "    \\begin{cases}\n",
    "        \\zeta^x_k &= \\zeta^x_{k - 1} - 15 \\cdot \\cos{\\eta_k}, \\\\\n",
    "        \\zeta^y_k &= \\zeta^y_{k - 1} + 15 \\cdot \\sin{\\eta_k}, \\\\\n",
    "        \\zeta^x_0 &= 500, \\\\\n",
    "        \\zeta^y_0 &= 0.\n",
    "    \\end{cases}\n",
    "\\end{equation}\n",
    "\n",
    "The task is to plot distributions of $\\pmb{\\zeta}_{12}$ and $\\pmb{\\zeta}_{24}$."
   ]
  },
  {
   "cell_type": "markdown",
   "metadata": {},
   "source": []
  }
 ],
 "metadata": {
  "kernelspec": {
   "display_name": "Python 3",
   "language": "python",
   "name": "python3"
  },
  "language_info": {
   "codemirror_mode": {
    "name": "ipython",
    "version": 3
   },
   "file_extension": ".py",
   "mimetype": "text/x-python",
   "name": "python",
   "nbconvert_exporter": "python",
   "pygments_lexer": "ipython3",
   "version": "3.6.5"
  }
 },
 "nbformat": 4,
 "nbformat_minor": 2
}
