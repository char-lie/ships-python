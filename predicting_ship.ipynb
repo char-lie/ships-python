{
 "cells": [
  {
   "cell_type": "markdown",
   "metadata": {},
   "source": [
    "Ship direction can be explained recursively\n",
    "\n",
    "\\begin{equation}\n",
    "    \\begin{cases}\n",
    "        \\eta_k &= \\eta_{k - 1} + \\xi_k, \\\\\n",
    "        \\eta_0 &= 0,\n",
    "    \\end{cases}\n",
    "    \\Rightarrow\n",
    "    \\eta_k = \\sum\\limits_{i = 1}^k \\xi_k\n",
    "\\end{equation}\n",
    "\n",
    "where $\\xi_k \\sim N\\left( 0, \\frac{1}{16} \\right)$,\n",
    "and thus $\\eta_k \\sim N\\left(0, \\frac{k}{16} \\right)$."
   ]
  },
  {
   "cell_type": "markdown",
   "metadata": {},
   "source": [
    "Thus, position of the ship is a process that depends on the $\\eta$\n",
    "\n",
    "\\begin{equation}\n",
    "    \\begin{cases}\n",
    "        \\zeta^x_k &= \\zeta^x_{k - 1} - 15 \\cdot \\cos{\\eta_k}, \\\\\n",
    "        \\zeta^y_k &= \\zeta^y_{k - 1} + 15 \\cdot \\sin{\\eta_k}, \\\\\n",
    "        \\zeta^x_0 &= 500, \\\\\n",
    "        \\zeta^y_0 &= 0,\n",
    "    \\end{cases}\n",
    "    \\Rightarrow\n",
    "    \\begin{cases}\n",
    "        \\zeta^x_k &= 500 - 15 \\cdot \\sum\\limits_{i = 1}^k \\cos{\\xi_i}, \\\\\n",
    "        \\zeta^y_k &= 15 \\cdot \\sum\\limits_{i = 1}^k \\sin{\\xi_i},\n",
    "    \\end{cases}\n",
    "\\end{equation}\n",
    "\n",
    "The task is to plot distributions of $\\pmb{\\zeta}_{12}$ and $\\pmb{\\zeta}_{24}$ vectors."
   ]
  },
  {
   "cell_type": "markdown",
   "metadata": {},
   "source": [
    "Assume that $\\pmb{\\zeta}_k$ is a discrete random vector.\n",
    "Then, its probability to be equal to a certain vector $\\pmb{v}$ is\n",
    "\n",
    "\\begin{equation}\n",
    "    P\\left( \\pmb{\\zeta}_k = \\pmb{v} \\right)\n",
    "    = P\\left( \\zeta^x_k = v^x, \\zeta^y_k = v^y \\right)\n",
    "    = P\\left( 500 - 15 \\cdot \\sum\\limits_{i = 1}^k \\cos{\\xi_i} = v^x, 15 \\cdot \\sum\\limits_{i = 1}^k \\sin{\\xi_i} = v^y \\right)\n",
    "    = P\\left( 33 \\frac{1}{3} - \\sum\\limits_{i = 1}^k \\cos{\\xi_i} = \\frac{v^x}{15}, \\sum\\limits_{i = 1}^k \\sin{\\xi_i} = \\frac{v^y}{15} \\right).\n",
    "\\end{equation}\n",
    "\n",
    "Let's transform our axes:\n",
    "- scale them down by factor $15$\n",
    "- move center of coordinates $33 \\frac{1}{3}$ units right\n",
    "- invert the $x$ axis\n",
    "\n",
    "Now, we have a new random vector\n",
    "\n",
    "\\begin{equation}\n",
    "    \\begin{cases}\n",
    "        \\theta^x_k &= \\sum\\limits_{i = 1}^k \\cos{\\xi_i}, \\\\\n",
    "        \\theta^y_k &= \\sum\\limits_{i = 1}^k \\sin{\\xi_i}.\n",
    "    \\end{cases}\n",
    "\\end{equation}\n",
    "\n",
    "We need to find a distribution of the random vector $\\pmb{\\theta}_k$\n",
    "\n",
    "\\begin{equation}\n",
    "    P\\left( \\pmb{\\theta}_k = \\pmb{v} \\right)\n",
    "    = P\\left( \\left\\langle \\sum\\limits_{i = 1}^k \\cos{\\xi_i}, \\sum\\limits_{i = 1}^k \\sin{\\xi_i} \\right\\rangle = \\left\\langle x, y \\right\\rangle \\right)\n",
    "    = P\\left( \\sum\\limits_{i = 1}^k \\left\\langle \\cos{\\xi_i}, \\sin{\\xi_i} \\right\\rangle = \\left\\langle x, y \\right\\rangle \\right)\n",
    "\\end{equation}\n",
    "\n",
    "In complex form\n",
    "\n",
    "\\begin{equation}\n",
    "    P\\left( \\pmb{\\theta}_k = \\pmb{v} \\right)\n",
    "    = P\\left( \\sum\\limits_{i = 1}^k \\left\\langle \\cos{\\xi_i}, \\sin{\\xi_i} \\right\\rangle = \\left\\langle x, y \\right\\rangle \\right)\n",
    "    = P\\left( \\sum\\limits_{i = 1}^k \\exp{j \\cdot \\xi_i} = x + j \\cdot y \\right)\n",
    "\\end{equation}\n",
    "\n",
    "It would be interesting to investigate distribution of this thing (looks like a bivariate lognormal, but has an imaginary part)."
   ]
  },
  {
   "cell_type": "markdown",
   "metadata": {},
   "source": [
    "It's hard to calculate a distribution of $\\zeta^x_k$,\n",
    "because this will need to calculate a $k$-multiple integral\n",
    "to have a convolution of probabilities of cosines of dependent normally distributed random variables.\n",
    "They are dependent, because $\\eta_k$ depends on $\\eta_i$ through $\\xi_i, i < k$."
   ]
  },
  {
   "cell_type": "markdown",
   "metadata": {},
   "source": [
    "Change of angle of the ship in $k + 1$st hour doesn't depend on another rotations,\n",
    "and thus angle $\\eta_{k + 1}$ on $k + 1$st step depends only on the angle $\\eta_{k + 1}$ on $k$th step\n",
    "and its change $\\xi_{k + 1}$ on $k + 1$st step.\n",
    "\n",
    "Imagine that we know that the ship is located at $\\left\\langle x_k, y_k \\right\\rangle$ and has an angle $\\varphi_k$ after $k$ hours trip without satellite connection.\n",
    "Probability of the ship do be in a point $\\left\\langle x_{k + 1}, y_{k + 1} \\right\\rangle$ and be rotated at angle $\\varphi_k$ is\n",
    "\n",
    "\\begin{equation}\n",
    "     P\\left( \\pmb{\\zeta}_{k + 1} = \\left\\langle x_{k + 1}, y_{k + 1} \\right\\rangle, \\eta_{k + 1} = \\varphi_{k + 1}\n",
    "             \\mid \\pmb{\\zeta}_k = \\left\\langle x_k, y_k \\right\\rangle, \\eta_k = \\varphi_k \\right)\n",
    "     = P\\left\\{ \\pmb{\\zeta}_{k + 1} = \\left\\langle x_k, y_k \\right\\rangle\n",
    "              + \\left\\langle - 15 \\cdot \\cos{\\varphi_{k + 1}}, 15 \\cdot \\sin{\\varphi_{k + 1}} \\right\\rangle\n",
    "         \\right\\},\n",
    "\\end{equation}\n",
    "\n",
    "Obviously, if $\\left( x_k - x_{k + 1} \\right)^2 + \\left( y_k - y_{k + 1} \\right)^2 \\neq 15$,\n",
    "then the probability is $0$, because we cannot reach the destination.\n",
    "When $x_{k + 1} - x_k \\neq 15 \\cdot - \\cos{\\phi_k}$ and $y_{k + 1} - y_k \\neq 15 \\cdot \\sin{\\phi_k}$,\n",
    "the probability is also $0$.\n",
    "\n",
    "Finally,\n",
    "\n",
    "\\begin{equation}\n",
    "     P\\left( \\pmb{\\zeta}_{k + 1} = \\left\\langle x_{k + 1}, y_{k + 1} \\right\\rangle,\n",
    "             \\eta_{k + 1} = \\varphi_{k + 1}\n",
    "             \\mid \\pmb{\\zeta}_k = \\left\\langle x_k, y_k \\right\\rangle, \\eta_k = \\varphi_k \\right)\n",
    "     = P\\left\\{ \\xi_{k + 1} = \\varphi_{k + 1} - \\varphi_k \\right\\}\n",
    "         \\cdot \\mathbb{1}\\left( \\left( x_k - x_{k + 1} \\right)^2 + \\left( y_k - y_{k + 1} \\right)^2 = 15 \\right)\n",
    "         \\cdot \\mathbb{1}\\left( x_{k + 1} - x_k = - 15 \\cdot \\cos{\\phi_k} \\right)\n",
    "         \\cdot \\mathbb{1}\\left( y_{k + 1} - y_k = 15 \\cdot \\sin{\\phi_k} \\right).\n",
    "\\end{equation}\n",
    "\n",
    "It's quiet simple to take a probability of the ship to be at $\\left\\langle x_{k + 1}, y_{k + 1} \\right\\rangle$ and be turned at $\\varphi_{k + 1}$,\n",
    "if we know the probability of it to be at $\\left\\langle x_k, y_k \\right\\rangle$ and have an angle $\\varphi_k$\n",
    "\n",
    "\\begin{equation}\n",
    "     P\\left( \\pmb{\\zeta}_{k + 1} = \\left\\langle x_{k + 1}, y_{k + 1} \\right\\rangle, \\eta_{k + 1} = \\varphi_{k + 1}, \\pmb{\\zeta}_k = \\left\\langle x_k, y_k \\right\\rangle, \\eta_k = \\varphi_k \\right)\n",
    "     =\n",
    "     P\\left( \\pmb{\\zeta}_{k + 1} = \\left\\langle x_{k + 1}, y_{k + 1} \\right\\rangle \\mid \\pmb{\\zeta}_k = \\left\\langle x_k, y_k \\right\\rangle, \\eta_k = \\varphi_k \\right)\n",
    "     \\cdot P\\left( \\pmb{\\zeta}_k = \\left\\langle x_k, y_k \\right\\rangle, \\eta_k = \\varphi_k \\right).\n",
    "\\end{equation}"
   ]
  },
  {
   "cell_type": "markdown",
   "metadata": {},
   "source": [
    "Now, imagine that we have a probability for each point $\\left\\langle x^i_k, y^i_k \\right\\rangle$ and each angle $\\varphi^i_k$,\n",
    "assuming that events under union are independent,\n",
    "because otherwise it would be too complicated for a test task\n",
    "\n",
    "\\begin{equation}\n",
    "     P\\bigcup_{i \\in I} \\left( \\pmb{\\zeta}_{k + 1} = \\left\\langle x_{k + 1}, y_{k + 1} \\right\\rangle, \\eta_{k + 1} = \\varphi_{k + 1},\n",
    "             \\pmb{\\zeta}_k = \\left\\langle x^i_k, y^i_k \\right\\rangle, \\eta_k = \\varphi^i_k \\right)\n",
    "     = \\sum\\limits_{i \\in I}\n",
    "     P\\left( \\pmb{\\zeta}_{k + 1} = \\left\\langle x^{k + 1}, y^{k + 1} \\right\\rangle, \\eta_{k + 1} = \\varphi_{k + 1}\n",
    "             \\mid \\pmb{\\zeta}_k = \\left\\langle x^i_k, y^i_k \\right\\rangle, \\eta_k = \\varphi^i_k\\right)\n",
    "     \\cdot P\\left( \\pmb{\\zeta}_k = \\left\\langle x^i_k, y^i_k \\right\\rangle, \\eta_k = \\varphi^i_k \\right)\n",
    "\\end{equation}\n",
    "\n",
    "We almost have a recurrent formula.\n",
    "The only missing step is an initial value.\n",
    "Though, we know it: the probability of the ship to be at its initial point is $1$ according to the task conditions\n",
    "\n",
    "\\begin{equation}\n",
    "    P\\left( \\pmb{\\zeta}_{k + 1} = \\left\\langle 500, 0 \\right\\rangle, \\eta_0 = 0 \\right)\n",
    "\\end{equation}\n",
    "\n",
    "In order to take the final density map, we need just to summarize given probabilities by all angles\n",
    "\n",
    "\\begin{equation}\n",
    "     P\\left( \\pmb{\\zeta}_k = \\left\\langle x_k, y_k \\right\\rangle \\right)\n",
    "     = \\sum\\limits_{i \\in I}\n",
    "         P\\left( \\pmb{\\zeta}_k = \\left\\langle x_k, y_k \\right\\rangle, \\eta_k = \\varphi^i_k \\right)\n",
    "\\end{equation}"
   ]
  },
  {
   "cell_type": "markdown",
   "metadata": {},
   "source": [
    "The idea is to calculate the first \"ring\" of probabilities (after one hour).\n",
    "Then, for each point of the ring, calculate \"second-order\" rings, and so on.\n",
    "Given a grid with specified density, we can go through each point,\n",
    "and, for each point of a circle with radius of $15$ nautical miles,\n",
    "calculate a probability of the ship to be there in one hour,\n",
    "and multiply it by probability of the ship to be in current point."
   ]
  },
  {
   "cell_type": "markdown",
   "metadata": {},
   "source": [
    "Let's investigate how to do this.\n",
    "\n",
    "Cumulative distribution function of $\\sin{\\xi_k}$ is\n",
    "\n",
    "\\begin{equation}\n",
    "    F_{\\sin{\\xi_k}}\\left( x \\right) = P\\left( \\sin{\\xi_k} \\le x \\right)\n",
    "\\end{equation}\n",
    "\n",
    "Sine is a periodic function, so we cannot just apply $arcsin$ to both sides of the inequality.\n",
    "Can we?\n",
    "\n",
    "Let's calculate what we can lose by this trick\n",
    "\n",
    "\\begin{equation}\n",
    "    P\\left( \\left| \\xi_k \\right| \\le \\pi \\right) = 2 \\cdot P\\left( \\xi_k \\le -\\pi \\right) = 2 \\cdot F_{\\xi_k}\\left( -\\pi \\right)\n",
    "\\end{equation}"
   ]
  },
  {
   "cell_type": "code",
   "execution_count": 1,
   "metadata": {},
   "outputs": [
    {
     "name": "stdout",
     "output_type": "stream",
     "text": [
      "Tail weight is 2.182448e-137%\n"
     ]
    }
   ],
   "source": [
    "from numpy import pi\n",
    "from scipy.stats import norm\n",
    "\n",
    "tail_weight = 2 * norm.cdf(-2 * pi, scale=1/4)\n",
    "print(f\"Tail weight is {tail_weight * 100:e}%\")"
   ]
  },
  {
   "cell_type": "markdown",
   "metadata": {},
   "source": [
    "We can see that if we assume that after one hour angle may not change for more than $\\pi$ in any direction,\n",
    "we don't lose anything,\n",
    "because the probability $\\sim 10^{-137}$ is very small.\n",
    "\n",
    "Though, we want to sum several random variables under this assumption.\n",
    "Let $\\tilde{p}$ be the probability of an angle to change for more than $\\pi$ after an hour in any direction.\n",
    "Then, the probability of staying in this bound is $1 - \\tilde{p}$.\n",
    "The probability that neither change will overflow the bound within $k$ hours is $\\left( 1 - \\tilde{p} \\right)^k$.\n",
    "Let's apply binomial theorem to calculate a probability that at least one direction change will overflow specified boundary\n",
    "\n",
    "\\begin{equation}\n",
    "    1 - \\left( 1 - \\tilde{p} \\right)^n\n",
    "    = 1 - \\sum\\limits_{k=0}^n {n \\choose k} \\cdot \\left( -\\tilde{p} \\right)^k\n",
    "\\end{equation}"
   ]
  },
  {
   "cell_type": "code",
   "execution_count": 2,
   "metadata": {},
   "outputs": [
    {
     "name": "stdout",
     "output_type": "stream",
     "text": [
      "Weight of tail after summation of chain of 24 random variables is 7.757390e-33%\n"
     ]
    }
   ],
   "source": [
    "from numpy import pi\n",
    "from scipy.stats import norm\n",
    "from scipy.special import comb\n",
    "\n",
    "final_tail = sum(comb(24, i) * (-2 * norm.cdf(-pi, scale=1/4)) ** i for i in range(1, 25))\n",
    "print(f\"Weight of tail after summation of chain of 24 random variables is {-final_tail * 100:e}%\")"
   ]
  },
  {
   "cell_type": "markdown",
   "metadata": {},
   "source": [
    "The tail grows fast, but it still very tiny and we can ignore it."
   ]
  }
 ],
 "metadata": {
  "kernelspec": {
   "display_name": "Python 3",
   "language": "python",
   "name": "python3"
  },
  "language_info": {
   "codemirror_mode": {
    "name": "ipython",
    "version": 3
   },
   "file_extension": ".py",
   "mimetype": "text/x-python",
   "name": "python",
   "nbconvert_exporter": "python",
   "pygments_lexer": "ipython3",
   "version": "3.6.5"
  }
 },
 "nbformat": 4,
 "nbformat_minor": 2
}
