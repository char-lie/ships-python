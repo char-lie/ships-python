{
 "cells": [
  {
   "cell_type": "markdown",
   "metadata": {},
   "source": [
    "Ship direction can be explained recursively\n",
    "\n",
    "\\begin{equation}\n",
    "    \\begin{cases}\n",
    "        \\eta_k &= \\eta_{k - 1} + \\xi_k, \\\\\n",
    "        \\eta_0 &= 0,\n",
    "    \\end{cases}\n",
    "    \\Rightarrow\n",
    "    \\eta_k = \\sum\\limits_{i = 1}^k \\xi_k\n",
    "\\end{equation}\n",
    "\n",
    "where $\\xi_k \\sim N\\left( 0, \\frac{1}{16} \\right)$,\n",
    "and thus $\\eta_k \\sim N\\left(0, \\frac{k}{16} \\right)$."
   ]
  },
  {
   "cell_type": "markdown",
   "metadata": {},
   "source": [
    "Thus, position of the ship is a process that depends on the $\\eta$\n",
    "\n",
    "\\begin{equation}\n",
    "    \\begin{cases}\n",
    "        \\zeta^x_k &= \\zeta^x_{k - 1} - 15 \\cdot \\cos{\\eta_k}, \\\\\n",
    "        \\zeta^y_k &= \\zeta^y_{k - 1} + 15 \\cdot \\sin{\\eta_k}, \\\\\n",
    "        \\zeta^x_0 &= 500, \\\\\n",
    "        \\zeta^y_0 &= 0,\n",
    "    \\end{cases}\n",
    "    \\Rightarrow\n",
    "    \\begin{cases}\n",
    "        \\zeta^x_k &= 500 - 15 \\cdot \\sum\\limits_{i = 1}^k \\cos{\\eta_k}, \\\\\n",
    "        \\zeta^y_k &= 15 \\cdot \\sum\\limits_{i = 1}^k \\sin{\\eta_k},\n",
    "    \\end{cases}\n",
    "\\end{equation}\n",
    "\n",
    "The task is to plot distributions of $\\pmb{\\zeta}_{12}$ and $\\pmb{\\zeta}_{24}$."
   ]
  },
  {
   "cell_type": "markdown",
   "metadata": {},
   "source": [
    "Cumulative distribution function of $\\sin{\\eta_k}$ is\n",
    "\n",
    "\\begin{equation}\n",
    "    F_{\\sin{\\eta_k}}\\left( x \\right) = P\\left( \\sin{\\eta_k} \\le x \\right)\n",
    "\\end{equation}\n",
    "\n",
    "Sine is a periodic function, so we cannot just apply $arcsin$ to both sides of the inequality.\n",
    "Can we?\n",
    "\n",
    "Let's calculate what we can lose by this trick\n",
    "\n",
    "\\begin{equation}\n",
    "    P\\left( \\left| \\eta_k \\right| \\le \\pi \\right) = 2 \\cdot P\\left( \\eta_k \\le -\\pi \\right) = 2 \\cdot F_{\\eta_k}\\left( -\\pi \\right)\n",
    "\\end{equation}\n",
    "\n",
    "for a variable with the greatest variance &mdash; $24$th has a standard deviation $\\frac{24}{16} = \\frac{3}{2} = 1.5$."
   ]
  },
  {
   "cell_type": "code",
   "execution_count": 20,
   "metadata": {},
   "outputs": [
    {
     "name": "stdout",
     "output_type": "stream",
     "text": [
      "Tail weight is 3.62%\n"
     ]
    }
   ],
   "source": [
    "from numpy import pi\n",
    "from scipy.stats import norm\n",
    "\n",
    "tail_weight = 2 * norm.cdf(-pi, scale=24/16)\n",
    "print(f\"Tail weight is {tail_weight * 100:<.2f}%\")"
   ]
  },
  {
   "cell_type": "markdown",
   "metadata": {},
   "source": [
    "There is more than $3.6\\%$ probability of the ship to turn more than $\\pi$ degrees for $24$ hours.\n",
    "I don't want to allow every thirtieth ship to be located several hundreds miles away from expected points.\n",
    "\n",
    "Though, that's not the end. We can use periodicity and check the probability against $2 \\cdot \\pi$."
   ]
  },
  {
   "cell_type": "code",
   "execution_count": 24,
   "metadata": {},
   "outputs": [
    {
     "name": "stdout",
     "output_type": "stream",
     "text": [
      "Tail weight is 0.0028%\n"
     ]
    }
   ],
   "source": [
    "from numpy import pi\n",
    "from scipy.stats import norm\n",
    "\n",
    "tail_weight = 2 * norm.cdf(-2 * pi, scale=24/16)\n",
    "print(f\"Tail weight is {tail_weight * 100:<.4f}%\")"
   ]
  },
  {
   "cell_type": "markdown",
   "metadata": {},
   "source": [
    "$3 \\cdot 10^{-3}\\%$ is a much more better number."
   ]
  }
 ],
 "metadata": {
  "kernelspec": {
   "display_name": "Python 3",
   "language": "python",
   "name": "python3"
  },
  "language_info": {
   "codemirror_mode": {
    "name": "ipython",
    "version": 3
   },
   "file_extension": ".py",
   "mimetype": "text/x-python",
   "name": "python",
   "nbconvert_exporter": "python",
   "pygments_lexer": "ipython3",
   "version": "3.6.5"
  }
 },
 "nbformat": 4,
 "nbformat_minor": 2
}
