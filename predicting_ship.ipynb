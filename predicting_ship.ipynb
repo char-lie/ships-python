{
 "cells": [
  {
   "cell_type": "markdown",
   "metadata": {},
   "source": [
    "Ship direction can be explained recursively\n",
    "\n",
    "\\begin{equation}\n",
    "    \\begin{cases}\n",
    "        \\eta_k &= \\eta_{k - 1} + \\xi_k, \\\\\n",
    "        \\eta_0 &= 0,\n",
    "    \\end{cases}\n",
    "    \\Rightarrow\n",
    "    \\eta_k = \\sum\\limits_{i = 1}^k \\xi_k\n",
    "\\end{equation}\n",
    "\n",
    "where $\\xi_k \\sim N\\left( 0, \\frac{1}{16} \\right)$,\n",
    "and thus $\\eta_k \\sim N\\left(0, \\frac{k}{16} \\right)$."
   ]
  },
  {
   "cell_type": "markdown",
   "metadata": {},
   "source": [
    "Thus, position of the ship is a process that depends on the $\\eta$\n",
    "\n",
    "\\begin{equation}\n",
    "    \\begin{cases}\n",
    "        \\zeta^x_k &= \\zeta^x_{k - 1} - 15 \\cdot \\cos{\\eta_k}, \\\\\n",
    "        \\zeta^y_k &= \\zeta^y_{k - 1} + 15 \\cdot \\sin{\\eta_k}, \\\\\n",
    "        \\zeta^x_0 &= 500, \\\\\n",
    "        \\zeta^y_0 &= 0,\n",
    "    \\end{cases}\n",
    "    \\Rightarrow\n",
    "    \\begin{cases}\n",
    "        \\zeta^x_k &= 500 - 15 \\cdot \\sum\\limits_{i = 1}^k \\cos{\\xi_i}, \\\\\n",
    "        \\zeta^y_k &= 15 \\cdot \\sum\\limits_{i = 1}^k \\sin{\\xi_i},\n",
    "    \\end{cases}\n",
    "\\end{equation}\n",
    "\n",
    "The task is to plot distributions of $\\pmb{\\zeta}_{12}$ and $\\pmb{\\zeta}_{24}$.\n",
    "\n",
    "It's hard to calculate a distribution of $\\zeta^x_k$,\n",
    "because this will need to calculate a $k$-multiple integral\n",
    "to have a convolution of probabilities of cosines of dependent normally distributed random variables.\n",
    "They are dependent, because $\\eta_k$ depends on $\\eta_i$ through $\\xi_i, i < k$."
   ]
  },
  {
   "cell_type": "markdown",
   "metadata": {},
   "source": [
    "The idea is to calculate the first \"ring\" of probabilities (after one hour).\n",
    "Then, for each point of the ring, calculate \"second-order\" rings, and so on.\n",
    "Given a grid with specified density, we can go through each point,\n",
    "and, for each point of a circle with radius of $15$ nautical miles,\n",
    "calculate a probability of the ship to be there in one hour,\n",
    "and multiply it by probability of the ship to be in current point."
   ]
  },
  {
   "cell_type": "markdown",
   "metadata": {},
   "source": [
    "Cumulative distribution function of $\\sin{\\xi_k}$ is\n",
    "\n",
    "\\begin{equation}\n",
    "    F_{\\sin{\\xi_k}}\\left( x \\right) = P\\left( \\sin{\\xi_k} \\le x \\right)\n",
    "\\end{equation}\n",
    "\n",
    "Sine is a periodic function, so we cannot just apply $arcsin$ to both sides of the inequality.\n",
    "Can we?\n",
    "\n",
    "Let's calculate what we can lose by this trick\n",
    "\n",
    "\\begin{equation}\n",
    "    P\\left( \\left| \\xi_k \\right| \\le \\pi \\right) = 2 \\cdot P\\left( \\xi_k \\le -\\pi \\right) = 2 \\cdot F_{\\xi_k}\\left( -\\pi \\right)\n",
    "\\end{equation}"
   ]
  },
  {
   "cell_type": "code",
   "execution_count": 1,
   "metadata": {},
   "outputs": [
    {
     "name": "stdout",
     "output_type": "stream",
     "text": [
      "Tail weight is 2.182448e-137%\n"
     ]
    }
   ],
   "source": [
    "from numpy import pi\n",
    "from scipy.stats import norm\n",
    "\n",
    "tail_weight = 2 * norm.cdf(-2 * pi, scale=1/4)\n",
    "print(f\"Tail weight is {tail_weight * 100:e}%\")"
   ]
  },
  {
   "cell_type": "markdown",
   "metadata": {},
   "source": [
    "We can see that if we assume that after one hour angle may not change for more than $\\pi$ in any direction,\n",
    "we don't lose anything,\n",
    "because the probability $\\sim 10^{-137}$ is very small.\n",
    "\n",
    "Though, we want to sum several random variables under this assumption.\n",
    "Let $\\tilde{p}$ be the probability of an angle to change for more than $\\pi$ after an hour in any direction.\n",
    "Then, the probability of staying in this bound is $1 - \\tilde{p}$.\n",
    "The probability that neither change will overflow the bound within $k$ hours is $\\left( 1 - \\tilde{p} \\right)^k$.\n",
    "Let's apply binomial theorem to calculate a probability that at least one direction change will overflow specified boundary\n",
    "\n",
    "\\begin{equation}\n",
    "    1 - \\left( 1 - \\tilde{p} \\right)^n\n",
    "    = 1 - \\sum\\limits_{k=0}^n {n \\choose k} \\cdot \\left( -\\tilde{p} \\right)^k\n",
    "\\end{equation}"
   ]
  },
  {
   "cell_type": "code",
   "execution_count": 2,
   "metadata": {},
   "outputs": [
    {
     "name": "stdout",
     "output_type": "stream",
     "text": [
      "Weight of tail after summation of chain of 24 random variables is 7.757390e-33%\n"
     ]
    }
   ],
   "source": [
    "from numpy import pi\n",
    "from scipy.stats import norm\n",
    "from scipy.special import comb\n",
    "\n",
    "final_tail = sum(comb(24, i) * (-2 * norm.cdf(-pi, scale=1/4)) ** i for i in range(1, 25))\n",
    "print(f\"Weight of tail after summation of chain of 24 random variables is {-final_tail * 100:e}%\")"
   ]
  },
  {
   "cell_type": "markdown",
   "metadata": {},
   "source": [
    "The tail grows fast, but it still very tiny and we can ignore it."
   ]
  }
 ],
 "metadata": {
  "kernelspec": {
   "display_name": "Python 3",
   "language": "python",
   "name": "python3"
  },
  "language_info": {
   "codemirror_mode": {
    "name": "ipython",
    "version": 3
   },
   "file_extension": ".py",
   "mimetype": "text/x-python",
   "name": "python",
   "nbconvert_exporter": "python",
   "pygments_lexer": "ipython3",
   "version": "3.6.5"
  }
 },
 "nbformat": 4,
 "nbformat_minor": 2
}
