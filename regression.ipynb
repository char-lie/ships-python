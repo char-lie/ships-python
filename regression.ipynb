{
 "cells": [
  {
   "cell_type": "code",
   "execution_count": 1,
   "metadata": {},
   "outputs": [
    {
     "name": "stdout",
     "output_type": "stream",
     "text": [
      "Linear interpolation formula\n",
      " \n",
      "0.9413 x + 56.07\n",
      "Shapiro test result:  (0.9491348266601562, 0.7332701683044434)\n",
      "\n",
      "Square interpolation formula\n",
      "           2\n",
      "-0.008688 x + 2.113 x + 24.59\n",
      "Shapiro test result:  (0.9765781164169312, 0.933339536190033)\n",
      "\n",
      "Cubical interpolation formula\n",
      "            3           2\n",
      "-0.0002069 x + 0.03349 x - 0.4465 x + 67.69\n",
      "Shapiro test result:  (0.970741331577301, 0.8973768949508667)\n",
      "\n"
     ]
    },
    {
     "data": {
      "image/png": "[encoded data removed]",
      "text/plain": [
       "<Figure size 648x216 with 3 Axes>"
      ]
     },
     "metadata": {},
     "output_type": "display_data"
    }
   ],
   "source": [
    "%matplotlib inline\n",
    "\n",
    "from numpy import (\n",
    "    poly1d,\n",
    "    polyfit,\n",
    ")\n",
    "from matplotlib import pyplot\n",
    "from scipy import stats\n",
    "\n",
    "pressure = [74.2, 103.4, 134.4, 149.8, 149.4, 148.8]\n",
    "load = [25, 50, 75, 90, 100, 110]\n",
    "\n",
    "line = poly1d(polyfit(load, pressure, 1))\n",
    "print(\"Linear interpolation formula\")\n",
    "print(line)\n",
    "print(\"Shapiro test result: \", stats.shapiro(line(load) - pressure))\n",
    "print()\n",
    "\n",
    "square = poly1d(polyfit(load, pressure, 2))\n",
    "print(\"Square interpolation formula\")\n",
    "print(square)\n",
    "print(\"Shapiro test result: \", stats.shapiro(square(load) - pressure))\n",
    "print()\n",
    "\n",
    "cube = poly1d(polyfit(load, pressure, 3))\n",
    "print(\"Cubical interpolation formula\")\n",
    "print(cube)\n",
    "print(\"Shapiro test result: \", stats.shapiro(cube(load) - pressure))\n",
    "print()\n",
    "\n",
    "fig, axs = pyplot.subplots(1, 3, figsize=(9, 3), sharey=True)\n",
    "\n",
    "axs[0].plot(load, pressure, 'o', load, line(load))\n",
    "axs[1].plot(load, pressure, 'o', load, square(load))\n",
    "axs[2].plot(load, pressure, 'o', load, cube(load))\n",
    "\n",
    "pyplot.show()"
   ]
  },
  {
   "cell_type": "markdown",
   "metadata": {},
   "source": [
    "Polynomial regression with squares loss function\n",
    "is derived from a suggestion that a Gaussian noise was applied to explored sample.\n",
    "So, it's needed to check normality of errors that we've got after fitting.\n",
    "\n",
    "I've applied Shapiro-Wilk test for normality to results of linear, quadratic and cubical interpolation.\n",
    "The data \"set\" is tiny, but the test is the only thing I can rely on.\n",
    "It shows that $p$-value for normality in the case of the quadratic approximation is greater than for other cases.\n",
    "There's no reason of taking power more than $3$, because in that case we will have almost ideal match\n",
    "because of polynomials' roots properties."
   ]
  }
 ],
 "metadata": {
  "kernelspec": {
   "display_name": "Python 3",
   "language": "python",
   "name": "python3"
  },
  "language_info": {
   "codemirror_mode": {
    "name": "ipython",
    "version": 3
   },
   "file_extension": ".py",
   "mimetype": "text/x-python",
   "name": "python",
   "nbconvert_exporter": "python",
   "pygments_lexer": "ipython3",
   "version": "3.6.5"
  }
 },
 "nbformat": 4,
 "nbformat_minor": 2
}
