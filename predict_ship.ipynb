{
 "cells": [
  {
   "cell_type": "code",
   "execution_count": 1,
   "metadata": {},
   "outputs": [
    {
     "name": "stdout",
     "output_type": "stream",
     "text": [
      "2018-12-03 19:03:07.100634\n",
      "1 hours calculated at 2018-12-03 19:03:14.533927\n",
      "2 hours calculated at 2018-12-03 19:03:18.649655\n",
      "3 hours calculated at 2018-12-03 19:03:23.850716\n",
      "4 hours calculated at 2018-12-03 19:03:40.899157\n",
      "5 hours calculated at 2018-12-03 19:04:20.230350\n",
      "6 hours calculated at 2018-12-03 19:05:15.240111\n",
      "7 hours calculated at 2018-12-03 19:06:29.527741\n",
      "8 hours calculated at 2018-12-03 19:08:00.196893\n",
      "9 hours calculated at 2018-12-03 19:09:44.376700\n",
      "10 hours calculated at 2018-12-03 19:11:48.701713\n",
      "11 hours calculated at 2018-12-03 19:14:05.077999\n",
      "12 hours calculated at 2018-12-03 19:16:39.746960\n",
      "13 hours calculated at 2018-12-03 19:19:30.826418\n",
      "14 hours calculated at 2018-12-03 19:22:34.775797\n",
      "15 hours calculated at 2018-12-03 19:25:56.026458\n",
      "16 hours calculated at 2018-12-03 19:29:25.657376\n",
      "17 hours calculated at 2018-12-03 19:33:16.227360\n",
      "18 hours calculated at 2018-12-03 19:37:20.307744\n",
      "19 hours calculated at 2018-12-03 19:41:43.643017\n",
      "20 hours calculated at 2018-12-03 19:46:21.136141\n",
      "21 hours calculated at 2018-12-03 19:51:18.754469\n",
      "22 hours calculated at 2018-12-03 19:56:32.792361\n",
      "23 hours calculated at 2018-12-03 20:01:46.169260\n",
      "24 hours calculated at 2018-12-03 20:07:08.728245\n",
      "0.000182013442219\n"
     ]
    },
    {
     "data": {
      "text/plain": [
       "<matplotlib.image.AxesImage at 0x7f1ba53b6d30>"
      ]
     },
     "execution_count": 1,
     "metadata": {},
     "output_type": "execute_result"
    },
    {
     "data": {
      "text/plain": [
       "<Figure size 432x288 with 0 Axes>"
      ]
     },
     "metadata": {},
     "output_type": "display_data"
    },
    {
     "data": {
      "image/png": "[encoded data removed]",
      "text/plain": [
       "<Figure size 1800x360 with 1 Axes>"
      ]
     },
     "metadata": {},
     "output_type": "display_data"
    }
   ],
   "source": [
    "%matplotlib inline\n",
    "\n",
    "from datetime import datetime\n",
    "\n",
    "from numpy import (\n",
    "    array,\n",
    "    sin,\n",
    "    cos,\n",
    "    round,\n",
    "    pi,\n",
    "    log,\n",
    "    zeros,\n",
    "    arcsin,\n",
    "    where,\n",
    "    save,\n",
    ")\n",
    "from matplotlib.cm import Greys\n",
    "from matplotlib import pyplot\n",
    "from scipy.stats import norm\n",
    "\n",
    "spatial_density = int(2E3)\n",
    "center = spatial_density // 4, 4 * spatial_density // 5, 0\n",
    "\n",
    "angular_density = 1\n",
    "velocity = 15\n",
    "chart_side = 500\n",
    "\n",
    "radius = spatial_density * velocity / chart_side\n",
    "\n",
    "space = zeros((spatial_density // 2, spatial_density, angular_density * 360))\n",
    "space_ = zeros((spatial_density // 2, spatial_density, angular_density * 360))\n",
    "\n",
    "circle = []\n",
    "deltas = []\n",
    "for i in range(360 * angular_density):\n",
    "    t = pi * i / (180 * angular_density)\n",
    "    position = (round(radius * array([sin(t), cos(t)]))).astype(int)\n",
    "    circle.append(norm.pdf(pi - t, scale=1/4))\n",
    "    deltas.append((*position, i))\n",
    "    \n",
    "circle = array(circle)\n",
    "deltas = array(deltas)\n",
    "\n",
    "space[center] = 1\n",
    "\n",
    "print(datetime.now())\n",
    "for n in range(24):\n",
    "    space_[:] = 0\n",
    "    for y, x, i in zip(*where(space > 1E-10)):\n",
    "        space_[deltas[:, 0] + y, deltas[:, 1] + x, deltas[:, 2] - i] += circle * space[y, x, i]\n",
    "    space[:] = space_\n",
    "    space /= space.sum()\n",
    "    save(f\"{n + 1:>02}.npy\", space.sum(axis=2))\n",
    "    print(f\"{n + 1} hours calculated at {datetime.now()}\")\n",
    "\n",
    "Z = space.sum(axis=2)\n",
    "del space\n",
    "del space_\n",
    "print(Z.max())\n",
    "\n",
    "pyplot.clf()\n",
    "fig, ax = pyplot.subplots(figsize=(25, 5))\n",
    "ax.imshow(\n",
    "    Z,\n",
    "    interpolation=None,\n",
    "    cmap=Greys,\n",
    "    origin='lower',\n",
    "    extent=[100, 600, -100, 100],\n",
    "    vmax=abs(Z).max(),\n",
    "    vmin=0,\n",
    ")"
   ]
  }
 ],
 "metadata": {
  "kernelspec": {
   "display_name": "Python 3",
   "language": "python",
   "name": "python3"
  },
  "language_info": {
   "codemirror_mode": {
    "name": "ipython",
    "version": 3
   },
   "file_extension": ".py",
   "mimetype": "text/x-python",
   "name": "python",
   "nbconvert_exporter": "python",
   "pygments_lexer": "ipython3",
   "version": "3.6.5"
  }
 },
 "nbformat": 4,
 "nbformat_minor": 2
}
